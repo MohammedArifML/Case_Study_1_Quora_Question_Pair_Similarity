{
 "cells": [
  {
   "cell_type": "markdown",
   "metadata": {},
   "source": [
    "# Case Study 1: Quora Question Pair Similarity"
   ]
  },
  {
   "cell_type": "code",
   "execution_count": 43,
   "metadata": {},
   "outputs": [],
   "source": [
    "import pandas as pd\n",
    "import matplotlib.pyplot as plt\n",
    "import re\n",
    "import time\n",
    "import warnings\n",
    "import numpy as np\n",
    "from nltk.corpus import stopwords\n",
    "import seaborn as sns\n",
    "from sklearn.preprocessing import normalize\n",
    "from sklearn.feature_extraction.text import CountVectorizer\n",
    "from sklearn.feature_extraction.text import TfidfVectorizer\n",
    "warnings.filterwarnings(\"ignore\")\n",
    "import sys\n",
    "import os \n",
    "import pandas as pd\n",
    "import numpy as np\n",
    "from tqdm import tqdm"
   ]
  },
  {
   "cell_type": "markdown",
   "metadata": {},
   "source": [
    "### 1. Preparing the train and test data"
   ]
  },
  {
   "cell_type": "code",
   "execution_count": 150,
   "metadata": {},
   "outputs": [
    {
     "name": "stdout",
     "output_type": "stream",
     "text": [
      "Shape of the data is (404290, 30)\n"
     ]
    },
    {
     "data": {
      "text/html": [
       "<div>\n",
       "<style scoped>\n",
       "    .dataframe tbody tr th:only-of-type {\n",
       "        vertical-align: middle;\n",
       "    }\n",
       "\n",
       "    .dataframe tbody tr th {\n",
       "        vertical-align: top;\n",
       "    }\n",
       "\n",
       "    .dataframe thead th {\n",
       "        text-align: right;\n",
       "    }\n",
       "</style>\n",
       "<table border=\"1\" class=\"dataframe\">\n",
       "  <thead>\n",
       "    <tr style=\"text-align: right;\">\n",
       "      <th></th>\n",
       "      <th>id</th>\n",
       "      <th>is_duplicate</th>\n",
       "      <th>cwc_min</th>\n",
       "      <th>cwc_max</th>\n",
       "      <th>csc_min</th>\n",
       "      <th>csc_max</th>\n",
       "      <th>ctc_min</th>\n",
       "      <th>ctc_max</th>\n",
       "      <th>last_word_eq</th>\n",
       "      <th>first_word_eq</th>\n",
       "      <th>...</th>\n",
       "      <th>q2len</th>\n",
       "      <th>q1_n_words</th>\n",
       "      <th>q2_n_words</th>\n",
       "      <th>word_Common</th>\n",
       "      <th>word_Total</th>\n",
       "      <th>word_share</th>\n",
       "      <th>freq_q1+q2</th>\n",
       "      <th>freq_q1-q2</th>\n",
       "      <th>question1</th>\n",
       "      <th>question2</th>\n",
       "    </tr>\n",
       "  </thead>\n",
       "  <tbody>\n",
       "    <tr>\n",
       "      <td>0</td>\n",
       "      <td>0</td>\n",
       "      <td>0</td>\n",
       "      <td>0.999980</td>\n",
       "      <td>0.833319</td>\n",
       "      <td>0.999983</td>\n",
       "      <td>0.999983</td>\n",
       "      <td>0.916659</td>\n",
       "      <td>0.785709</td>\n",
       "      <td>0.0</td>\n",
       "      <td>1.0</td>\n",
       "      <td>...</td>\n",
       "      <td>57</td>\n",
       "      <td>14</td>\n",
       "      <td>12</td>\n",
       "      <td>10.0</td>\n",
       "      <td>23.0</td>\n",
       "      <td>0.434783</td>\n",
       "      <td>2</td>\n",
       "      <td>0</td>\n",
       "      <td>What is the step by step guide to invest in sh...</td>\n",
       "      <td>What is the step by step guide to invest in sh...</td>\n",
       "    </tr>\n",
       "    <tr>\n",
       "      <td>1</td>\n",
       "      <td>1</td>\n",
       "      <td>0</td>\n",
       "      <td>0.799984</td>\n",
       "      <td>0.399996</td>\n",
       "      <td>0.749981</td>\n",
       "      <td>0.599988</td>\n",
       "      <td>0.699993</td>\n",
       "      <td>0.466664</td>\n",
       "      <td>0.0</td>\n",
       "      <td>1.0</td>\n",
       "      <td>...</td>\n",
       "      <td>88</td>\n",
       "      <td>8</td>\n",
       "      <td>13</td>\n",
       "      <td>4.0</td>\n",
       "      <td>20.0</td>\n",
       "      <td>0.200000</td>\n",
       "      <td>5</td>\n",
       "      <td>3</td>\n",
       "      <td>What is the story of Kohinoor (Koh-i-Noor) Dia...</td>\n",
       "      <td>What would happen if the Indian government sto...</td>\n",
       "    </tr>\n",
       "    <tr>\n",
       "      <td>2</td>\n",
       "      <td>2</td>\n",
       "      <td>0</td>\n",
       "      <td>0.399992</td>\n",
       "      <td>0.333328</td>\n",
       "      <td>0.399992</td>\n",
       "      <td>0.249997</td>\n",
       "      <td>0.399996</td>\n",
       "      <td>0.285712</td>\n",
       "      <td>0.0</td>\n",
       "      <td>1.0</td>\n",
       "      <td>...</td>\n",
       "      <td>59</td>\n",
       "      <td>14</td>\n",
       "      <td>10</td>\n",
       "      <td>4.0</td>\n",
       "      <td>24.0</td>\n",
       "      <td>0.166667</td>\n",
       "      <td>2</td>\n",
       "      <td>0</td>\n",
       "      <td>How can I increase the speed of my internet co...</td>\n",
       "      <td>How can Internet speed be increased by hacking...</td>\n",
       "    </tr>\n",
       "    <tr>\n",
       "      <td>3</td>\n",
       "      <td>3</td>\n",
       "      <td>0</td>\n",
       "      <td>0.000000</td>\n",
       "      <td>0.000000</td>\n",
       "      <td>0.000000</td>\n",
       "      <td>0.000000</td>\n",
       "      <td>0.000000</td>\n",
       "      <td>0.000000</td>\n",
       "      <td>0.0</td>\n",
       "      <td>0.0</td>\n",
       "      <td>...</td>\n",
       "      <td>65</td>\n",
       "      <td>11</td>\n",
       "      <td>9</td>\n",
       "      <td>0.0</td>\n",
       "      <td>19.0</td>\n",
       "      <td>0.000000</td>\n",
       "      <td>2</td>\n",
       "      <td>0</td>\n",
       "      <td>Why am I mentally very lonely? How can I solve...</td>\n",
       "      <td>Find the remainder when [math]23^{24}[/math] i...</td>\n",
       "    </tr>\n",
       "    <tr>\n",
       "      <td>4</td>\n",
       "      <td>4</td>\n",
       "      <td>0</td>\n",
       "      <td>0.399992</td>\n",
       "      <td>0.199998</td>\n",
       "      <td>0.999950</td>\n",
       "      <td>0.666644</td>\n",
       "      <td>0.571420</td>\n",
       "      <td>0.307690</td>\n",
       "      <td>0.0</td>\n",
       "      <td>1.0</td>\n",
       "      <td>...</td>\n",
       "      <td>39</td>\n",
       "      <td>13</td>\n",
       "      <td>7</td>\n",
       "      <td>2.0</td>\n",
       "      <td>20.0</td>\n",
       "      <td>0.100000</td>\n",
       "      <td>4</td>\n",
       "      <td>2</td>\n",
       "      <td>Which one dissolve in water quikly sugar, salt...</td>\n",
       "      <td>Which fish would survive in salt water?</td>\n",
       "    </tr>\n",
       "  </tbody>\n",
       "</table>\n",
       "<p>5 rows × 30 columns</p>\n",
       "</div>"
      ],
      "text/plain": [
       "   id  is_duplicate   cwc_min   cwc_max   csc_min   csc_max   ctc_min  \\\n",
       "0   0             0  0.999980  0.833319  0.999983  0.999983  0.916659   \n",
       "1   1             0  0.799984  0.399996  0.749981  0.599988  0.699993   \n",
       "2   2             0  0.399992  0.333328  0.399992  0.249997  0.399996   \n",
       "3   3             0  0.000000  0.000000  0.000000  0.000000  0.000000   \n",
       "4   4             0  0.399992  0.199998  0.999950  0.666644  0.571420   \n",
       "\n",
       "    ctc_max  last_word_eq  first_word_eq  ...  q2len  q1_n_words  q2_n_words  \\\n",
       "0  0.785709           0.0            1.0  ...     57          14          12   \n",
       "1  0.466664           0.0            1.0  ...     88           8          13   \n",
       "2  0.285712           0.0            1.0  ...     59          14          10   \n",
       "3  0.000000           0.0            0.0  ...     65          11           9   \n",
       "4  0.307690           0.0            1.0  ...     39          13           7   \n",
       "\n",
       "   word_Common  word_Total  word_share  freq_q1+q2  freq_q1-q2  \\\n",
       "0         10.0        23.0    0.434783           2           0   \n",
       "1          4.0        20.0    0.200000           5           3   \n",
       "2          4.0        24.0    0.166667           2           0   \n",
       "3          0.0        19.0    0.000000           2           0   \n",
       "4          2.0        20.0    0.100000           4           2   \n",
       "\n",
       "                                           question1  \\\n",
       "0  What is the step by step guide to invest in sh...   \n",
       "1  What is the story of Kohinoor (Koh-i-Noor) Dia...   \n",
       "2  How can I increase the speed of my internet co...   \n",
       "3  Why am I mentally very lonely? How can I solve...   \n",
       "4  Which one dissolve in water quikly sugar, salt...   \n",
       "\n",
       "                                           question2  \n",
       "0  What is the step by step guide to invest in sh...  \n",
       "1  What would happen if the Indian government sto...  \n",
       "2  How can Internet speed be increased by hacking...  \n",
       "3  Find the remainder when [math]23^{24}[/math] i...  \n",
       "4            Which fish would survive in salt water?  \n",
       "\n",
       "[5 rows x 30 columns]"
      ]
     },
     "execution_count": 150,
     "metadata": {},
     "output_type": "execute_result"
    }
   ],
   "source": [
    "# This CSV contains 1 id feature + 1 class label + 11 simple features + 15 advancedfeatures + question1 + question2 = 30 features\n",
    "# This csv has been extracted from '3.Q_Mean_W2V.ipynb' notebook\n",
    "\n",
    "'''\n",
    "dfmerged = df1.merge(df2, on='id',how='left')\n",
    "new_df = df[['id','question1','question2']]\n",
    "dfmerged = dfmerged.merge(new_df, on='id',how='left')\n",
    "dfmerged.to_csv('features_without_tfidf.csv', index=False)\n",
    "'''\n",
    "\n",
    "df = pd.read_csv(\"features_without_tfidf.csv\")\n",
    "print(\"Shape of the data is\", df.shape)\n",
    "df.head(5)"
   ]
  },
  {
   "cell_type": "code",
   "execution_count": 151,
   "metadata": {},
   "outputs": [
    {
     "data": {
      "text/plain": [
       "'What is the step by step guide to invest in share market in india? What is the step by step guide to invest in share market?'"
      ]
     },
     "execution_count": 151,
     "metadata": {},
     "output_type": "execute_result"
    }
   ],
   "source": [
    "df['all_questions'] = df.question1 + ' ' + df.question2\n",
    "df.all_questions[0]"
   ]
  },
  {
   "cell_type": "code",
   "execution_count": 153,
   "metadata": {},
   "outputs": [
    {
     "name": "stdout",
     "output_type": "stream",
     "text": [
      "Size of training data is (75000, 27)\n",
      "Size of test data is (25000, 27)\n"
     ]
    }
   ],
   "source": [
    "# splitting the data into train and test before vectorizing\n",
    "from sklearn.model_selection import train_test_split\n",
    "\n",
    "#all_q = df['all_questions']\n",
    "\n",
    "isduplicate = df['is_duplicate']\n",
    "X = df.drop(['is_duplicate', 'id', 'question1', 'question2'], axis=1)[0:100000]\n",
    "Y = np.array(isduplicate[0:100000])\n",
    "#Y = df['is_duplicate'][0:5000]\n",
    "\n",
    "x_train, x_test, y_train, y_test = train_test_split(X, Y, test_size=0.25, random_state=3)\n",
    "\n",
    "print(\"Size of training data is\", x_train.shape)\n",
    "print(\"Size of test data is\", x_test.shape)"
   ]
  },
  {
   "cell_type": "code",
   "execution_count": 154,
   "metadata": {},
   "outputs": [
    {
     "name": "stdout",
     "output_type": "stream",
     "text": [
      "Shape of train and test data after vectorization are:\n",
      "Train Data (75000, 31366)\n",
      "Test Data (25000, 31366)\n"
     ]
    }
   ],
   "source": [
    "#questions_train = list(x_train['question1']) + list(x_train['question2'])\n",
    "#questions_test = list(x_test['question1']) + list(x_test['question2'])\n",
    "\n",
    "x_train_ques = x_train['all_questions']\n",
    "x_test_ques = x_test['all_questions']\n",
    "\n",
    "x_train = x_train.drop(['all_questions'], axis=1)\n",
    "x_test = x_test.drop(['all_questions'], axis=1)\n",
    "\n",
    "tfidf = TfidfVectorizer(ngram_range=(1,3),min_df=10)\n",
    "tfidf.fit(x_train_ques)\n",
    "\n",
    "x_train_tfidf = tfidf.transform(x_train_ques)\n",
    "x_test_tfidf = tfidf.transform(x_test_ques)\n",
    "\n",
    "print(\"Shape of train and test data after vectorization are:\")\n",
    "print(\"Train Data\", x_train_tfidf.shape)\n",
    "print(\"Test Data\", x_test_tfidf.shape)"
   ]
  },
  {
   "cell_type": "code",
   "execution_count": 155,
   "metadata": {},
   "outputs": [
    {
     "name": "stdout",
     "output_type": "stream",
     "text": [
      "New shapes of training and test data is\n",
      "(75000, 31392)\n",
      "(25000, 31392)\n"
     ]
    }
   ],
   "source": [
    "# Adding the tfidf features into the the main training and test data\n",
    "from scipy.sparse import hstack\n",
    "\n",
    "x_train = hstack((x_train.astype(float), x_train_tfidf))\n",
    "x_test = hstack((x_test.astype(float), x_test_tfidf))\n",
    "\n",
    "print(\"New shapes of training and test data is\")\n",
    "print(x_train.shape)\n",
    "print(x_test.shape)"
   ]
  },
  {
   "cell_type": "code",
   "execution_count": 156,
   "metadata": {},
   "outputs": [
    {
     "data": {
      "text/plain": [
       "scipy.sparse.coo.coo_matrix"
      ]
     },
     "execution_count": 156,
     "metadata": {},
     "output_type": "execute_result"
    }
   ],
   "source": [
    "type(x_train)"
   ]
  },
  {
   "cell_type": "markdown",
   "metadata": {},
   "source": [
    "### 1.1 Preparing data for XGBoost model, vectorizing the data by tfidf-w2v"
   ]
  },
  {
   "cell_type": "code",
   "execution_count": 205,
   "metadata": {},
   "outputs": [
    {
     "data": {
      "text/html": [
       "<div>\n",
       "<style scoped>\n",
       "    .dataframe tbody tr th:only-of-type {\n",
       "        vertical-align: middle;\n",
       "    }\n",
       "\n",
       "    .dataframe tbody tr th {\n",
       "        vertical-align: top;\n",
       "    }\n",
       "\n",
       "    .dataframe thead th {\n",
       "        text-align: right;\n",
       "    }\n",
       "</style>\n",
       "<table border=\"1\" class=\"dataframe\">\n",
       "  <thead>\n",
       "    <tr style=\"text-align: right;\">\n",
       "      <th></th>\n",
       "      <th>id</th>\n",
       "      <th>is_duplicate</th>\n",
       "      <th>cwc_min</th>\n",
       "      <th>cwc_max</th>\n",
       "      <th>csc_min</th>\n",
       "      <th>csc_max</th>\n",
       "      <th>ctc_min</th>\n",
       "      <th>ctc_max</th>\n",
       "      <th>last_word_eq</th>\n",
       "      <th>first_word_eq</th>\n",
       "      <th>...</th>\n",
       "      <th>q1_n_words</th>\n",
       "      <th>q2_n_words</th>\n",
       "      <th>word_Common</th>\n",
       "      <th>word_Total</th>\n",
       "      <th>word_share</th>\n",
       "      <th>freq_q1+q2</th>\n",
       "      <th>freq_q1-q2</th>\n",
       "      <th>question1</th>\n",
       "      <th>question2</th>\n",
       "      <th>all_questions</th>\n",
       "    </tr>\n",
       "  </thead>\n",
       "  <tbody>\n",
       "    <tr>\n",
       "      <td>0</td>\n",
       "      <td>0</td>\n",
       "      <td>0</td>\n",
       "      <td>0.999980</td>\n",
       "      <td>0.833319</td>\n",
       "      <td>0.999983</td>\n",
       "      <td>0.999983</td>\n",
       "      <td>0.916659</td>\n",
       "      <td>0.785709</td>\n",
       "      <td>0.0</td>\n",
       "      <td>1.0</td>\n",
       "      <td>...</td>\n",
       "      <td>14</td>\n",
       "      <td>12</td>\n",
       "      <td>10.0</td>\n",
       "      <td>23.0</td>\n",
       "      <td>0.434783</td>\n",
       "      <td>2</td>\n",
       "      <td>0</td>\n",
       "      <td>What is the step by step guide to invest in sh...</td>\n",
       "      <td>What is the step by step guide to invest in sh...</td>\n",
       "      <td>What is the step by step guide to invest in sh...</td>\n",
       "    </tr>\n",
       "    <tr>\n",
       "      <td>1</td>\n",
       "      <td>1</td>\n",
       "      <td>0</td>\n",
       "      <td>0.799984</td>\n",
       "      <td>0.399996</td>\n",
       "      <td>0.749981</td>\n",
       "      <td>0.599988</td>\n",
       "      <td>0.699993</td>\n",
       "      <td>0.466664</td>\n",
       "      <td>0.0</td>\n",
       "      <td>1.0</td>\n",
       "      <td>...</td>\n",
       "      <td>8</td>\n",
       "      <td>13</td>\n",
       "      <td>4.0</td>\n",
       "      <td>20.0</td>\n",
       "      <td>0.200000</td>\n",
       "      <td>5</td>\n",
       "      <td>3</td>\n",
       "      <td>What is the story of Kohinoor (Koh-i-Noor) Dia...</td>\n",
       "      <td>What would happen if the Indian government sto...</td>\n",
       "      <td>What is the story of Kohinoor (Koh-i-Noor) Dia...</td>\n",
       "    </tr>\n",
       "    <tr>\n",
       "      <td>2</td>\n",
       "      <td>2</td>\n",
       "      <td>0</td>\n",
       "      <td>0.399992</td>\n",
       "      <td>0.333328</td>\n",
       "      <td>0.399992</td>\n",
       "      <td>0.249997</td>\n",
       "      <td>0.399996</td>\n",
       "      <td>0.285712</td>\n",
       "      <td>0.0</td>\n",
       "      <td>1.0</td>\n",
       "      <td>...</td>\n",
       "      <td>14</td>\n",
       "      <td>10</td>\n",
       "      <td>4.0</td>\n",
       "      <td>24.0</td>\n",
       "      <td>0.166667</td>\n",
       "      <td>2</td>\n",
       "      <td>0</td>\n",
       "      <td>How can I increase the speed of my internet co...</td>\n",
       "      <td>How can Internet speed be increased by hacking...</td>\n",
       "      <td>How can I increase the speed of my internet co...</td>\n",
       "    </tr>\n",
       "    <tr>\n",
       "      <td>3</td>\n",
       "      <td>3</td>\n",
       "      <td>0</td>\n",
       "      <td>0.000000</td>\n",
       "      <td>0.000000</td>\n",
       "      <td>0.000000</td>\n",
       "      <td>0.000000</td>\n",
       "      <td>0.000000</td>\n",
       "      <td>0.000000</td>\n",
       "      <td>0.0</td>\n",
       "      <td>0.0</td>\n",
       "      <td>...</td>\n",
       "      <td>11</td>\n",
       "      <td>9</td>\n",
       "      <td>0.0</td>\n",
       "      <td>19.0</td>\n",
       "      <td>0.000000</td>\n",
       "      <td>2</td>\n",
       "      <td>0</td>\n",
       "      <td>Why am I mentally very lonely? How can I solve...</td>\n",
       "      <td>Find the remainder when [math]23^{24}[/math] i...</td>\n",
       "      <td>Why am I mentally very lonely? How can I solve...</td>\n",
       "    </tr>\n",
       "    <tr>\n",
       "      <td>4</td>\n",
       "      <td>4</td>\n",
       "      <td>0</td>\n",
       "      <td>0.399992</td>\n",
       "      <td>0.199998</td>\n",
       "      <td>0.999950</td>\n",
       "      <td>0.666644</td>\n",
       "      <td>0.571420</td>\n",
       "      <td>0.307690</td>\n",
       "      <td>0.0</td>\n",
       "      <td>1.0</td>\n",
       "      <td>...</td>\n",
       "      <td>13</td>\n",
       "      <td>7</td>\n",
       "      <td>2.0</td>\n",
       "      <td>20.0</td>\n",
       "      <td>0.100000</td>\n",
       "      <td>4</td>\n",
       "      <td>2</td>\n",
       "      <td>Which one dissolve in water quikly sugar, salt...</td>\n",
       "      <td>Which fish would survive in salt water?</td>\n",
       "      <td>Which one dissolve in water quikly sugar, salt...</td>\n",
       "    </tr>\n",
       "  </tbody>\n",
       "</table>\n",
       "<p>5 rows × 31 columns</p>\n",
       "</div>"
      ],
      "text/plain": [
       "   id  is_duplicate   cwc_min   cwc_max   csc_min   csc_max   ctc_min  \\\n",
       "0   0             0  0.999980  0.833319  0.999983  0.999983  0.916659   \n",
       "1   1             0  0.799984  0.399996  0.749981  0.599988  0.699993   \n",
       "2   2             0  0.399992  0.333328  0.399992  0.249997  0.399996   \n",
       "3   3             0  0.000000  0.000000  0.000000  0.000000  0.000000   \n",
       "4   4             0  0.399992  0.199998  0.999950  0.666644  0.571420   \n",
       "\n",
       "    ctc_max  last_word_eq  first_word_eq  ...  q1_n_words  q2_n_words  \\\n",
       "0  0.785709           0.0            1.0  ...          14          12   \n",
       "1  0.466664           0.0            1.0  ...           8          13   \n",
       "2  0.285712           0.0            1.0  ...          14          10   \n",
       "3  0.000000           0.0            0.0  ...          11           9   \n",
       "4  0.307690           0.0            1.0  ...          13           7   \n",
       "\n",
       "   word_Common  word_Total  word_share  freq_q1+q2  freq_q1-q2  \\\n",
       "0         10.0        23.0    0.434783           2           0   \n",
       "1          4.0        20.0    0.200000           5           3   \n",
       "2          4.0        24.0    0.166667           2           0   \n",
       "3          0.0        19.0    0.000000           2           0   \n",
       "4          2.0        20.0    0.100000           4           2   \n",
       "\n",
       "                                           question1  \\\n",
       "0  What is the step by step guide to invest in sh...   \n",
       "1  What is the story of Kohinoor (Koh-i-Noor) Dia...   \n",
       "2  How can I increase the speed of my internet co...   \n",
       "3  Why am I mentally very lonely? How can I solve...   \n",
       "4  Which one dissolve in water quikly sugar, salt...   \n",
       "\n",
       "                                           question2  \\\n",
       "0  What is the step by step guide to invest in sh...   \n",
       "1  What would happen if the Indian government sto...   \n",
       "2  How can Internet speed be increased by hacking...   \n",
       "3  Find the remainder when [math]23^{24}[/math] i...   \n",
       "4            Which fish would survive in salt water?   \n",
       "\n",
       "                                       all_questions  \n",
       "0  What is the step by step guide to invest in sh...  \n",
       "1  What is the story of Kohinoor (Koh-i-Noor) Dia...  \n",
       "2  How can I increase the speed of my internet co...  \n",
       "3  Why am I mentally very lonely? How can I solve...  \n",
       "4  Which one dissolve in water quikly sugar, salt...  \n",
       "\n",
       "[5 rows x 31 columns]"
      ]
     },
     "execution_count": 205,
     "metadata": {},
     "output_type": "execute_result"
    }
   ],
   "source": [
    "dfw2v = pd.read_csv(r\"C:\\Users\\momoarif\\Downloads\\AppliedAICourse\\Case Studies\\01_Quora_Question_Pair_Similarity\\train.csv\")\n",
    "dfw2v['question1'] = dfw2v['question1'].apply(lambda x: str(x))\n",
    "dfw2v['question2'] = dfw2v['question2'].apply(lambda x: str(x))\n",
    "df.head()"
   ]
  },
  {
   "cell_type": "code",
   "execution_count": null,
   "metadata": {},
   "outputs": [],
   "source": []
  },
  {
   "cell_type": "markdown",
   "metadata": {},
   "source": [
    "### 2. Applying ML Models - Logistic Regression"
   ]
  },
  {
   "cell_type": "code",
   "execution_count": 157,
   "metadata": {},
   "outputs": [],
   "source": [
    "# Some functions\n",
    "\n",
    "def plot_confusion_matrix(test_y, predict_y):\n",
    "    C = confusion_matrix(test_y, predict_y)\n",
    "    # C = 9,9 matrix, each cell (i,j) represents number of points of class i are predicted class j\n",
    "    \n",
    "    A =(((C.T)/(C.sum(axis=1))).T)\n",
    "    #divid each element of the confusion matrix with the sum of elements in that column\n",
    "    \n",
    "    # C = [[1, 2],\n",
    "    #     [3, 4]]\n",
    "    # C.T = [[1, 3],\n",
    "    #        [2, 4]]\n",
    "    # C.sum(axis = 1)  axis=0 corresonds to columns and axis=1 corresponds to rows in two diamensional array\n",
    "    # C.sum(axix =1) = [[3, 7]]\n",
    "    # ((C.T)/(C.sum(axis=1))) = [[1/3, 3/7]\n",
    "    #                           [2/3, 4/7]]\n",
    "\n",
    "    # ((C.T)/(C.sum(axis=1))).T = [[1/3, 2/3]\n",
    "    #                           [3/7, 4/7]]\n",
    "    # sum of row elements = 1\n",
    "    \n",
    "    B =(C/C.sum(axis=0))\n",
    "    #divid each element of the confusion matrix with the sum of elements in that row\n",
    "    # C = [[1, 2],\n",
    "    #     [3, 4]]\n",
    "    # C.sum(axis = 0)  axis=0 corresonds to columns and axis=1 corresponds to rows in two diamensional array\n",
    "    # C.sum(axix =0) = [[4, 6]]\n",
    "    # (C/C.sum(axis=0)) = [[1/4, 2/6],\n",
    "    #                      [3/4, 4/6]] \n",
    "    plt.figure(figsize=(20,4))\n",
    "    \n",
    "    labels = [1,2]\n",
    "    # representing A in heatmap format\n",
    "    cmap=sns.light_palette(\"blue\")\n",
    "    plt.subplot(1, 3, 1)\n",
    "    sns.heatmap(C, annot=True, cmap=cmap, fmt=\".3f\", xticklabels=labels, yticklabels=labels)\n",
    "    plt.xlabel('Predicted Class')\n",
    "    plt.ylabel('Original Class')\n",
    "    plt.title(\"Confusion matrix\")\n",
    "    \n",
    "    plt.subplot(1, 3, 2)\n",
    "    sns.heatmap(B, annot=True, cmap=cmap, fmt=\".3f\", xticklabels=labels, yticklabels=labels)\n",
    "    plt.xlabel('Predicted Class')\n",
    "    plt.ylabel('Original Class')\n",
    "    plt.title(\"Precision matrix\")\n",
    "    \n",
    "    plt.subplot(1, 3, 3)\n",
    "    # representing B in heatmap format\n",
    "    sns.heatmap(A, annot=True, cmap=cmap, fmt=\".3f\", xticklabels=labels, yticklabels=labels)\n",
    "    plt.xlabel('Predicted Class')\n",
    "    plt.ylabel('Original Class')\n",
    "    plt.title(\"Recall matrix\")\n",
    "    \n",
    "    plt.show()"
   ]
  },
  {
   "cell_type": "code",
   "execution_count": 158,
   "metadata": {},
   "outputs": [
    {
     "data": {
      "text/plain": [
       "GridSearchCV(cv=5, error_score='raise-deprecating',\n",
       "             estimator=LogisticRegression(C=1.0, class_weight=None, dual=False,\n",
       "                                          fit_intercept=True,\n",
       "                                          intercept_scaling=1, l1_ratio=None,\n",
       "                                          max_iter=100, multi_class='warn',\n",
       "                                          n_jobs=None, penalty='l2',\n",
       "                                          random_state=None, solver='warn',\n",
       "                                          tol=0.0001, verbose=0,\n",
       "                                          warm_start=False),\n",
       "             iid='warn', n_jobs=None,\n",
       "             param_grid=[{'C': [0.0001, 0.001, 0.01, 0.1, 1.0, 100, 1000,\n",
       "                                10000]}],\n",
       "             pre_dispatch='2*n_jobs', refit=True, return_train_score=True,\n",
       "             scoring='roc_auc', verbose=0)"
      ]
     },
     "execution_count": 158,
     "metadata": {},
     "output_type": "execute_result"
    }
   ],
   "source": [
    "# Finding best C using GridSearchCV method with 5-fold CV option\n",
    "from sklearn.linear_model import LogisticRegression\n",
    "from sklearn.model_selection import GridSearchCV\n",
    "\n",
    "lr_tfidf = LogisticRegression(penalty='l2')\n",
    "parameters = [{'C':[10**-4, 10**-3, 10**-2, 10**-1, 1.0, 10**2, 10**3, 10**4]}]\n",
    "clf = GridSearchCV(lr_tfidf, parameters, cv=5, scoring='roc_auc', return_train_score=True)\n",
    "clf.fit(x_train, y_train)"
   ]
  },
  {
   "cell_type": "code",
   "execution_count": 159,
   "metadata": {},
   "outputs": [
    {
     "data": {
      "image/png": "[encoded data removed]",
      "text/plain": [
       "<Figure size 432x288 with 1 Axes>"
      ]
     },
     "metadata": {},
     "output_type": "display_data"
    },
    {
     "name": "stdout",
     "output_type": "stream",
     "text": [
      "Best Estimator: LogisticRegression(C=1.0, class_weight=None, dual=False, fit_intercept=True,\n",
      "                   intercept_scaling=1, l1_ratio=None, max_iter=100,\n",
      "                   multi_class='warn', n_jobs=None, penalty='l2',\n",
      "                   random_state=None, solver='warn', tol=0.0001, verbose=0,\n",
      "                   warm_start=False)\n",
      "Best Parameter: {'C': 1.0}\n",
      "Test Score: 0.9077031520952366\n",
      "====================================================================================================\n"
     ]
    }
   ],
   "source": [
    "# Finding AUC for train and CV data set\n",
    "# these AUC's will be used to plot against the lambda/C hyperparameter to get the best value\n",
    "\n",
    "train_auc = clf.cv_results_['mean_train_score']\n",
    "train_auc_std = clf.cv_results_['std_train_score']\n",
    "cv_auc = clf.cv_results_['mean_test_score'] \n",
    "cv_auc_std = clf.cv_results_['std_test_score']\n",
    "\n",
    "c_param = [10**-4, 10**-3, 10**-2, 10**-1, 1.0, 10**2, 10**3, 10**4]\n",
    "\n",
    "# Plotting train AUC and CV AUC versus log of C\n",
    "# this code is copied from here: https://stackoverflow.com/a/48803361/4084039\n",
    "plt.plot(np.log(c_param), train_auc, label='Train AUC')\n",
    "plt.gca().fill_between(np.log(c_param), train_auc - train_auc_std,train_auc + train_auc_std,alpha=0.2,color='darkblue')\n",
    "\n",
    "plt.plot(np.log(c_param), cv_auc, label='CV AUC')\n",
    "plt.gca().fill_between(np.log(c_param), cv_auc - cv_auc_std,cv_auc + cv_auc_std,alpha=0.2,color='darkorange')\n",
    "\n",
    "plt.legend()\n",
    "plt.xlabel(\"log(c_param): hyperparameter\")\n",
    "plt.ylabel(\"AUC\")\n",
    "plt.title(\"ERROR PLOTS\")\n",
    "plt.show()\n",
    "\n",
    "print(\"Best Estimator:\", clf.best_estimator_)\n",
    "print(\"Best Parameter:\", clf.best_params_)\n",
    "print(\"Test Score:\", clf.score(x_test, y_test))\n",
    "\n",
    "print('='*100)"
   ]
  },
  {
   "cell_type": "code",
   "execution_count": 160,
   "metadata": {},
   "outputs": [
    {
     "data": {
      "image/png": "[encoded data removed]",
      "text/plain": [
       "<Figure size 432x288 with 1 Axes>"
      ]
     },
     "metadata": {},
     "output_type": "display_data"
    },
    {
     "name": "stdout",
     "output_type": "stream",
     "text": [
      "The best alpha 1.0 has a train log loss value :0.31404310407464303\n",
      "The best alpha 1.0 has a test log loss value :0.3673161773580128\n",
      "Total number of data points : 25000\n"
     ]
    },
    {
     "data": {
      "image/png": "[encoded data removed]",
      "text/plain": [
       "<Figure size 1440x288 with 6 Axes>"
      ]
     },
     "metadata": {},
     "output_type": "display_data"
    }
   ],
   "source": [
    "# Training out tfidf train vectors with the best hyperparameter value\n",
    "from sklearn.metrics import roc_curve, auc\n",
    "from sklearn.metrics.classification import accuracy_score, log_loss\n",
    "from sklearn.metrics import confusion_matrix\n",
    "import seaborn as sns\n",
    "\n",
    "best_c = 1.0\n",
    "\n",
    "lr_l2 = LogisticRegression(C=1.0, class_weight=None, dual=False, fit_intercept=True,\n",
    "                   intercept_scaling=1, l1_ratio=None, max_iter=100,\n",
    "                   multi_class='warn', n_jobs=None, penalty='l2',\n",
    "                   random_state=None, solver='warn', tol=0.0001, verbose=0,\n",
    "                   warm_start=False)\n",
    "lr_l2.fit(x_train, y_train)\n",
    "\n",
    "train_fpr, train_tpr, thresholds = roc_curve(y_train, lr_l2.predict_proba(x_train)[:,1])\n",
    "test_fpr, test_tpr, thresholds = roc_curve(y_test, lr_l2.predict_proba(x_test)[:,1])\n",
    "\n",
    "# Plotting the error plots (false positive and total positive) against alpha hyperparameter\n",
    "# for both train and test data\n",
    "plt.plot(train_fpr, train_tpr, label=\"train AUC =\"+str(auc(train_fpr, train_tpr)))\n",
    "plt.plot(test_fpr, test_tpr, label=\"test AUC =\"+str(auc(test_fpr, test_tpr)))\n",
    "plt.legend()\n",
    "plt.xlabel(\"FPR\")\n",
    "plt.ylabel(\"TPR\")\n",
    "plt.title(\"ERROR PLOTS\")\n",
    "plt.show()\n",
    "\n",
    "# displaying log loss values for train and test data\n",
    "y_pred_tr = lr_l2.predict_proba(x_train)\n",
    "print(\"The best alpha {} has a train log loss value :{}\".format(best_c, log_loss(y_train, y_pred_tr, labels=lr_l2.classes_, eps=1e-15)))\n",
    "\n",
    "y_pred_ts = lr_l2.predict_proba(x_test)\n",
    "print(\"The best alpha {} has a test log loss value :{}\".format(best_c, log_loss(y_test, y_pred_ts, labels=lr_l2.classes_, eps=1e-15)))\n",
    "\n",
    "# plotting confusion, precision and recall matrixs\n",
    "predicted_y =np.argmax(y_pred_ts, axis=1)\n",
    "print(\"Total number of data points :\", len(predicted_y))\n",
    "plot_confusion_matrix(y_test, predicted_y)"
   ]
  },
  {
   "cell_type": "markdown",
   "metadata": {},
   "source": [
    "### 3. Applying ML Models - Linear SVM"
   ]
  },
  {
   "cell_type": "code",
   "execution_count": 161,
   "metadata": {},
   "outputs": [
    {
     "data": {
      "text/plain": [
       "GridSearchCV(cv=5, error_score='raise-deprecating',\n",
       "             estimator=SGDClassifier(alpha=0.0001, average=False,\n",
       "                                     class_weight=None, early_stopping=False,\n",
       "                                     epsilon=0.1, eta0=0.0, fit_intercept=True,\n",
       "                                     l1_ratio=0.15, learning_rate='optimal',\n",
       "                                     loss='hinge', max_iter=1000,\n",
       "                                     n_iter_no_change=5, n_jobs=None,\n",
       "                                     penalty='l2', power_t=0.5,\n",
       "                                     random_state=None, shuffle=True, tol=0.001,\n",
       "                                     validation_fraction=0.1, verbose=0,\n",
       "                                     warm_start=False),\n",
       "             iid='warn', n_jobs=None,\n",
       "             param_grid=[{'alpha': [0.0001, 0.001, 0.01, 0.1, 1.0, 100, 1000,\n",
       "                                    10000]}],\n",
       "             pre_dispatch='2*n_jobs', refit=True, return_train_score=True,\n",
       "             scoring='roc_auc', verbose=0)"
      ]
     },
     "execution_count": 161,
     "metadata": {},
     "output_type": "execute_result"
    }
   ],
   "source": [
    "# Training linear SVM on training data\n",
    "from sklearn.linear_model import SGDClassifier\n",
    "\n",
    "lr_svm = SGDClassifier(loss='hinge', penalty='l2')\n",
    "\n",
    "parameters = [{'alpha':[10**-4, 10**-3, 10**-2, 10**-1, 1.0, 10**2, 10**3, 10**4]}]\n",
    "clf = GridSearchCV(lr_svm, parameters, cv=5, scoring='roc_auc', return_train_score=True)\n",
    "clf.fit(x_train, y_train)"
   ]
  },
  {
   "cell_type": "code",
   "execution_count": 162,
   "metadata": {},
   "outputs": [
    {
     "data": {
      "image/png": "[encoded data removed]",
      "text/plain": [
       "<Figure size 432x288 with 1 Axes>"
      ]
     },
     "metadata": {},
     "output_type": "display_data"
    },
    {
     "name": "stdout",
     "output_type": "stream",
     "text": [
      "Best Estimator for l1: SGDClassifier(alpha=0.0001, average=False, class_weight=None,\n",
      "              early_stopping=False, epsilon=0.1, eta0=0.0, fit_intercept=True,\n",
      "              l1_ratio=0.15, learning_rate='optimal', loss='hinge',\n",
      "              max_iter=1000, n_iter_no_change=5, n_jobs=None, penalty='l2',\n",
      "              power_t=0.5, random_state=None, shuffle=True, tol=0.001,\n",
      "              validation_fraction=0.1, verbose=0, warm_start=False)\n",
      "Best Parameter for l1: {'alpha': 0.0001}\n",
      "Test Score for l1: 0.877219998240754\n"
     ]
    }
   ],
   "source": [
    "# Finding AUC for train and CV data set\n",
    "# these AUC's will be used to plot against the lambda/C hyperparameter to get the best value\n",
    "\n",
    "train_auc = clf.cv_results_['mean_train_score']\n",
    "train_auc_std = clf.cv_results_['std_train_score']\n",
    "cv_auc = clf.cv_results_['mean_test_score'] \n",
    "cv_auc_std = clf.cv_results_['std_test_score']\n",
    "\n",
    "alpha_param = [10**-4, 10**-3, 10**-2, 10**-1, 1.0, 10**2, 10**3, 10**4]\n",
    "\n",
    "# Plotting train AUC and CV AUC versus log of C\n",
    "plt.plot(np.log(alpha_param), train_auc, label='Train AUC')\n",
    "plt.gca().fill_between(np.log(alpha_param), train_auc - train_auc_std,train_auc + train_auc_std,alpha=0.2,color='darkblue')\n",
    "\n",
    "plt.plot(np.log(alpha_param), cv_auc, label='CV AUC')\n",
    "plt.gca().fill_between(np.log(alpha_param), cv_auc - cv_auc_std,cv_auc + cv_auc_std,alpha=0.2,color='darkorange')\n",
    "\n",
    "plt.legend()\n",
    "plt.xlabel(\"log(alpha_param): hyperparameter\")\n",
    "plt.ylabel(\"AUC\")\n",
    "plt.title(\"ERROR PLOTS\")\n",
    "plt.show()\n",
    "\n",
    "\n",
    "print(\"Best Estimator for l1:\", clf.best_estimator_)\n",
    "print(\"Best Parameter for l1:\", clf.best_params_)\n",
    "print(\"Test Score for l1:\", clf.score(x_test, y_test))"
   ]
  },
  {
   "cell_type": "code",
   "execution_count": 163,
   "metadata": {},
   "outputs": [
    {
     "data": {
      "image/png": "[encoded data removed]",
      "text/plain": [
       "<Figure size 432x288 with 1 Axes>"
      ]
     },
     "metadata": {},
     "output_type": "display_data"
    },
    {
     "name": "stdout",
     "output_type": "stream",
     "text": [
      "The best alpha 0.0001 has a train hinge loss value :0.8904133333333333\n",
      "The best alpha 0.0001 has a test hinge loss value :0.89188\n"
     ]
    },
    {
     "data": {
      "image/png": "[encoded data removed]",
      "text/plain": [
       "<Figure size 1440x288 with 6 Axes>"
      ]
     },
     "metadata": {},
     "output_type": "display_data"
    }
   ],
   "source": [
    "# Training out tfidf train vectors using linear svm with best alpha value\n",
    "from sklearn.calibration import CalibratedClassifierCV\n",
    "\n",
    "best_alpha = 0.0001\n",
    "lr_svm = SGDClassifier(alpha=0.0001, average=False, class_weight=None,\n",
    "              early_stopping=False, epsilon=0.1, eta0=0.0, fit_intercept=True,\n",
    "              l1_ratio=0.15, learning_rate='optimal', loss='hinge',\n",
    "              max_iter=1000, n_iter_no_change=5, n_jobs=None, penalty='l2',\n",
    "              power_t=0.5, random_state=None, shuffle=True, tol=0.001,\n",
    "              validation_fraction=0.1, verbose=0, warm_start=False)\n",
    "lr_svm.fit(x_train, y_train)\n",
    "\n",
    "clf_calibrated = CalibratedClassifierCV(clf, cv='prefit', method='isotonic')\n",
    "clf_calibrated.fit(x_train, y_train)\n",
    "#y_train_pred = clf_calibrated.predict_proba(x_train)\n",
    "#y_test_pred = clf_calibrated.predict_proba(x_test)\n",
    "#print(y_test_pred)\n",
    "\n",
    "train_fpr, train_tpr, thresholds = roc_curve(y_train, clf_calibrated.predict_proba(x_train)[:,1])\n",
    "test_fpr, test_tpr, thresholds = roc_curve(y_test, clf_calibrated.predict_proba(x_test)[:,1])\n",
    "\n",
    "# Plotting the error plots (false positive and total positive) against alpha hyperparameter\n",
    "# for both train and test data\n",
    "plt.plot(train_fpr, train_tpr, label=\"train AUC =\"+str(auc(train_fpr, train_tpr)))\n",
    "plt.plot(test_fpr, test_tpr, label=\"test AUC =\"+str(auc(test_fpr, test_tpr)))\n",
    "plt.legend()\n",
    "plt.xlabel(\"FPR\")\n",
    "plt.ylabel(\"TPR\")\n",
    "plt.title(\"ERROR PLOTS\")\n",
    "plt.show()\n",
    "\n",
    "# displaying log loss values for train and test data\n",
    "from sklearn.metrics import hinge_loss\n",
    "\n",
    "y_pred_tr = lr_svm.predict(x_train)\n",
    "print(\"The best alpha {} has a train hinge loss value :{}\".format(best_alpha, hinge_loss(y_train, y_pred_tr, labels=lr_svm.classes_)))\n",
    "\n",
    "y_pred_ts = lr_svm.predict(x_test)\n",
    "print(\"The best alpha {} has a test hinge loss value :{}\".format(best_alpha, hinge_loss(y_test, y_pred_ts, labels=lr_svm.classes_)))\n",
    "\n",
    "# plotting confusion, precision and recall matrixs\n",
    "#predicted_y = np.argmax(y_pred_ts, axis=1)\n",
    "#print(\"Total number of data points :\", len(predicted_y))\n",
    "plot_confusion_matrix(y_test, y_pred_ts)"
   ]
  },
  {
   "cell_type": "markdown",
   "metadata": {},
   "source": [
    "### 4. Applying ML Models - XGBoost on TFIDF W2V"
   ]
  },
  {
   "cell_type": "code",
   "execution_count": 40,
   "metadata": {},
   "outputs": [],
   "source": [
    "# This function plots the confusion matrices given y_i, y_i_hat.\n",
    "def plot_confusion_matrix(test_y, predict_y):\n",
    "    C = confusion_matrix(test_y, predict_y)\n",
    "    # C = 9,9 matrix, each cell (i,j) represents number of points of class i are predicted class j\n",
    "    \n",
    "    A =(((C.T)/(C.sum(axis=1))).T)\n",
    "    #divid each element of the confusion matrix with the sum of elements in that column\n",
    "    \n",
    "    # C = [[1, 2],\n",
    "    #     [3, 4]]\n",
    "    # C.T = [[1, 3],\n",
    "    #        [2, 4]]\n",
    "    # C.sum(axis = 1)  axis=0 corresonds to columns and axis=1 corresponds to rows in two diamensional array\n",
    "    # C.sum(axix =1) = [[3, 7]]\n",
    "    # ((C.T)/(C.sum(axis=1))) = [[1/3, 3/7]\n",
    "    #                           [2/3, 4/7]]\n",
    "\n",
    "    # ((C.T)/(C.sum(axis=1))).T = [[1/3, 2/3]\n",
    "    #                           [3/7, 4/7]]\n",
    "    # sum of row elements = 1\n",
    "    \n",
    "    B =(C/C.sum(axis=0))\n",
    "    #divid each element of the confusion matrix with the sum of elements in that row\n",
    "    # C = [[1, 2],\n",
    "    #     [3, 4]]\n",
    "    # C.sum(axis = 0)  axis=0 corresonds to columns and axis=1 corresponds to rows in two diamensional array\n",
    "    # C.sum(axix =0) = [[4, 6]]\n",
    "    # (C/C.sum(axis=0)) = [[1/4, 2/6],\n",
    "    #                      [3/4, 4/6]] \n",
    "    plt.figure(figsize=(20,4))\n",
    "    \n",
    "    labels = [1,2]\n",
    "    # representing A in heatmap format\n",
    "    cmap=sns.light_palette(\"blue\")\n",
    "    plt.subplot(1, 3, 1)\n",
    "    sns.heatmap(C, annot=True, cmap=cmap, fmt=\".3f\", xticklabels=labels, yticklabels=labels)\n",
    "    plt.xlabel('Predicted Class')\n",
    "    plt.ylabel('Original Class')\n",
    "    plt.title(\"Confusion matrix\")\n",
    "    \n",
    "    plt.subplot(1, 3, 2)\n",
    "    sns.heatmap(B, annot=True, cmap=cmap, fmt=\".3f\", xticklabels=labels, yticklabels=labels)\n",
    "    plt.xlabel('Predicted Class')\n",
    "    plt.ylabel('Original Class')\n",
    "    plt.title(\"Precision matrix\")\n",
    "    \n",
    "    plt.subplot(1, 3, 3)\n",
    "    # representing B in heatmap format\n",
    "    sns.heatmap(A, annot=True, cmap=cmap, fmt=\".3f\", xticklabels=labels, yticklabels=labels)\n",
    "    plt.xlabel('Predicted Class')\n",
    "    plt.ylabel('Original Class')\n",
    "    plt.title(\"Recall matrix\")\n",
    "    \n",
    "    plt.show()"
   ]
  },
  {
   "cell_type": "code",
   "execution_count": 4,
   "metadata": {},
   "outputs": [
    {
     "data": {
      "text/plain": [
       "(404290, 221)"
      ]
     },
     "execution_count": 4,
     "metadata": {},
     "output_type": "execute_result"
    }
   ],
   "source": [
    "df_train = pd.read_csv(\"final_features_train.csv\")\n",
    "df_train.shape"
   ]
  },
  {
   "cell_type": "code",
   "execution_count": 6,
   "metadata": {},
   "outputs": [],
   "source": [
    "df_train_clean = df_train.dropna()"
   ]
  },
  {
   "cell_type": "code",
   "execution_count": 7,
   "metadata": {},
   "outputs": [
    {
     "data": {
      "text/plain": [
       "(404290, 221)"
      ]
     },
     "execution_count": 7,
     "metadata": {},
     "output_type": "execute_result"
    }
   ],
   "source": [
    "df_test = pd.read_csv(\"final_features_test.csv\")\n",
    "df_test.shape"
   ]
  },
  {
   "cell_type": "code",
   "execution_count": 8,
   "metadata": {},
   "outputs": [],
   "source": [
    "df_test_clean = df_test.dropna()"
   ]
  },
  {
   "cell_type": "code",
   "execution_count": 12,
   "metadata": {},
   "outputs": [
    {
     "name": "stdout",
     "output_type": "stream",
     "text": [
      "New shape of training feature after cleaning is (303217, 221)\n",
      "New shape of test feature after cleaning is (101073, 221)\n"
     ]
    }
   ],
   "source": [
    "print(\"New shape of training feature after cleaning is\", df_train_clean.shape)\n",
    "print(\"New shape of test feature after cleaning is\", df_test_clean.shape)"
   ]
  },
  {
   "cell_type": "code",
   "execution_count": 13,
   "metadata": {},
   "outputs": [],
   "source": [
    "df_train_clean.to_csv('final_features_train_final.csv')\n",
    "df_test_clean.to_csv('final_features_test_final.csv')"
   ]
  },
  {
   "cell_type": "code",
   "execution_count": 15,
   "metadata": {},
   "outputs": [
    {
     "name": "stdout",
     "output_type": "stream",
     "text": [
      "180000 rows\n",
      "360000 rows\n"
     ]
    }
   ],
   "source": [
    "#Creating db file from csv, each for training and test\n",
    "from sqlalchemy import create_engine\n",
    "import datetime as dt\n",
    "\n",
    "if not os.path.isfile('db_train.db'):\n",
    "    disk_engine = create_engine('sqlite:///db_train.db')\n",
    "    start = dt.datetime.now()\n",
    "    chunksize = 180000\n",
    "    j = 0\n",
    "    index_start = 1\n",
    "    for df in pd.read_csv('final_features_train_final.csv', names=['Unnamed: 0','Unnamed: 1','id','is_duplicate','cwc_min','cwc_max','csc_min','csc_max','ctc_min','ctc_max','last_word_eq','first_word_eq','abs_len_diff','mean_len','token_set_ratio','token_sort_ratio','fuzz_ratio','fuzz_partial_ratio','longest_substr_ratio','freq_qid1','freq_qid2','q1len','q2len','q1_n_words','q2_n_words','word_Common','word_Total','word_share','freq_q1+q2','freq_q1-q2','0_x','1_x','2_x','3_x','4_x','5_x','6_x','7_x','8_x','9_x','10_x','11_x','12_x','13_x','14_x','15_x','16_x','17_x','18_x','19_x','20_x','21_x','22_x','23_x','24_x','25_x','26_x','27_x','28_x','29_x','30_x','31_x','32_x','33_x','34_x','35_x','36_x','37_x','38_x','39_x','40_x','41_x','42_x','43_x','44_x','45_x','46_x','47_x','48_x','49_x','50_x','51_x','52_x','53_x','54_x','55_x','56_x','57_x','58_x','59_x','60_x','61_x','62_x','63_x','64_x','65_x','66_x','67_x','68_x','69_x','70_x','71_x','72_x','73_x','74_x','75_x','76_x','77_x','78_x','79_x','80_x','81_x','82_x','83_x','84_x','85_x','86_x','87_x','88_x','89_x','90_x','91_x','92_x','93_x','94_x','95_x','96_x','97_x','98_x','99_x','100_x','101_x','102_x','103_x','104_x','105_x','106_x','107_x','108_x','109_x','110_x','111_x','112_x','113_x','114_x','115_x','116_x','117_x','118_x','119_x','120_x','121_x','122_x','123_x','124_x','125_x','126_x','127_x','128_x','129_x','130_x','131_x','132_x','133_x','134_x','135_x','136_x','137_x','138_x','139_x','140_x','141_x','142_x','143_x','144_x','145_x','146_x','147_x','148_x','149_x','150_x','151_x','152_x','153_x','154_x','155_x','156_x','157_x','158_x','159_x','160_x','161_x','162_x','163_x','164_x','165_x','166_x','167_x','168_x','169_x','170_x','171_x','172_x','173_x','174_x','175_x','176_x','177_x','178_x','179_x','180_x','181_x','182_x','183_x','184_x','185_x','186_x','187_x','188_x','189_x','190_x','191_x','0_y','1_y','2_y','3_y','4_y','5_y','6_y','7_y','8_y','9_y','10_y','11_y','12_y','13_y','14_y','15_y','16_y','17_y','18_y','19_y','20_y','21_y','22_y','23_y','24_y','25_y','26_y','27_y','28_y','29_y','30_y','31_y','32_y','33_y','34_y','35_y','36_y','37_y','38_y','39_y','40_y','41_y','42_y','43_y','44_y','45_y','46_y','47_y','48_y','49_y','50_y','51_y','52_y','53_y','54_y','55_y','56_y','57_y','58_y','59_y','60_y','61_y','62_y','63_y','64_y','65_y','66_y','67_y','68_y','69_y','70_y','71_y','72_y','73_y','74_y','75_y','76_y','77_y','78_y','79_y','80_y','81_y','82_y','83_y','84_y','85_y','86_y','87_y','88_y','89_y','90_y','91_y','92_y','93_y','94_y','95_y','96_y','97_y','98_y','99_y','100_y','101_y','102_y','103_y','104_y','105_y','106_y','107_y','108_y','109_y','110_y','111_y','112_y','113_y','114_y','115_y','116_y','117_y','118_y','119_y','120_y','121_y','122_y','123_y','124_y','125_y','126_y','127_y','128_y','129_y','130_y','131_y','132_y','133_y','134_y','135_y','136_y','137_y','138_y','139_y','140_y','141_y','142_y','143_y','144_y','145_y','146_y','147_y','148_y','149_y','150_y','151_y','152_y','153_y','154_y','155_y','156_y','157_y','158_y','159_y','160_y','161_y','162_y','163_y','164_y','165_y','166_y','167_y','168_y','169_y','170_y','171_y','172_y','173_y','174_y','175_y','176_y','177_y','178_y','179_y','180_y','181_y','182_y','183_y','184_y','185_y','186_y','187_y','188_y','189_y','190_y','191_y'], chunksize=chunksize, iterator=True, encoding='utf-8', ):\n",
    "        df.index += index_start\n",
    "        j+=1\n",
    "        print('{} rows'.format(j*chunksize))\n",
    "        df.to_sql('data_train', disk_engine, if_exists='append')\n",
    "        index_start = df.index[-1] + 1"
   ]
  },
  {
   "cell_type": "code",
   "execution_count": 16,
   "metadata": {},
   "outputs": [
    {
     "name": "stdout",
     "output_type": "stream",
     "text": [
      "180000 rows\n"
     ]
    }
   ],
   "source": [
    "#Creating db file from csv, each for training and test\n",
    "if not os.path.isfile('db_test.db'):\n",
    "    disk_engine = create_engine('sqlite:///db_test.db')\n",
    "    start = dt.datetime.now()\n",
    "    chunksize = 180000\n",
    "    j = 0\n",
    "    index_start = 1\n",
    "    for df in pd.read_csv('final_features_test_final.csv', names=['Unnamed: 0','Unnamed: 1','id','is_duplicate','cwc_min','cwc_max','csc_min','csc_max','ctc_min','ctc_max','last_word_eq','first_word_eq','abs_len_diff','mean_len','token_set_ratio','token_sort_ratio','fuzz_ratio','fuzz_partial_ratio','longest_substr_ratio','freq_qid1','freq_qid2','q1len','q2len','q1_n_words','q2_n_words','word_Common','word_Total','word_share','freq_q1+q2','freq_q1-q2','0_x','1_x','2_x','3_x','4_x','5_x','6_x','7_x','8_x','9_x','10_x','11_x','12_x','13_x','14_x','15_x','16_x','17_x','18_x','19_x','20_x','21_x','22_x','23_x','24_x','25_x','26_x','27_x','28_x','29_x','30_x','31_x','32_x','33_x','34_x','35_x','36_x','37_x','38_x','39_x','40_x','41_x','42_x','43_x','44_x','45_x','46_x','47_x','48_x','49_x','50_x','51_x','52_x','53_x','54_x','55_x','56_x','57_x','58_x','59_x','60_x','61_x','62_x','63_x','64_x','65_x','66_x','67_x','68_x','69_x','70_x','71_x','72_x','73_x','74_x','75_x','76_x','77_x','78_x','79_x','80_x','81_x','82_x','83_x','84_x','85_x','86_x','87_x','88_x','89_x','90_x','91_x','92_x','93_x','94_x','95_x','96_x','97_x','98_x','99_x','100_x','101_x','102_x','103_x','104_x','105_x','106_x','107_x','108_x','109_x','110_x','111_x','112_x','113_x','114_x','115_x','116_x','117_x','118_x','119_x','120_x','121_x','122_x','123_x','124_x','125_x','126_x','127_x','128_x','129_x','130_x','131_x','132_x','133_x','134_x','135_x','136_x','137_x','138_x','139_x','140_x','141_x','142_x','143_x','144_x','145_x','146_x','147_x','148_x','149_x','150_x','151_x','152_x','153_x','154_x','155_x','156_x','157_x','158_x','159_x','160_x','161_x','162_x','163_x','164_x','165_x','166_x','167_x','168_x','169_x','170_x','171_x','172_x','173_x','174_x','175_x','176_x','177_x','178_x','179_x','180_x','181_x','182_x','183_x','184_x','185_x','186_x','187_x','188_x','189_x','190_x','191_x','0_y','1_y','2_y','3_y','4_y','5_y','6_y','7_y','8_y','9_y','10_y','11_y','12_y','13_y','14_y','15_y','16_y','17_y','18_y','19_y','20_y','21_y','22_y','23_y','24_y','25_y','26_y','27_y','28_y','29_y','30_y','31_y','32_y','33_y','34_y','35_y','36_y','37_y','38_y','39_y','40_y','41_y','42_y','43_y','44_y','45_y','46_y','47_y','48_y','49_y','50_y','51_y','52_y','53_y','54_y','55_y','56_y','57_y','58_y','59_y','60_y','61_y','62_y','63_y','64_y','65_y','66_y','67_y','68_y','69_y','70_y','71_y','72_y','73_y','74_y','75_y','76_y','77_y','78_y','79_y','80_y','81_y','82_y','83_y','84_y','85_y','86_y','87_y','88_y','89_y','90_y','91_y','92_y','93_y','94_y','95_y','96_y','97_y','98_y','99_y','100_y','101_y','102_y','103_y','104_y','105_y','106_y','107_y','108_y','109_y','110_y','111_y','112_y','113_y','114_y','115_y','116_y','117_y','118_y','119_y','120_y','121_y','122_y','123_y','124_y','125_y','126_y','127_y','128_y','129_y','130_y','131_y','132_y','133_y','134_y','135_y','136_y','137_y','138_y','139_y','140_y','141_y','142_y','143_y','144_y','145_y','146_y','147_y','148_y','149_y','150_y','151_y','152_y','153_y','154_y','155_y','156_y','157_y','158_y','159_y','160_y','161_y','162_y','163_y','164_y','165_y','166_y','167_y','168_y','169_y','170_y','171_y','172_y','173_y','174_y','175_y','176_y','177_y','178_y','179_y','180_y','181_y','182_y','183_y','184_y','185_y','186_y','187_y','188_y','189_y','190_y','191_y'], chunksize=chunksize, iterator=True, encoding='utf-8', ):\n",
    "        df.index += index_start\n",
    "        j+=1\n",
    "        print('{} rows'.format(j*chunksize))\n",
    "        df.to_sql('data_test', disk_engine, if_exists='append')\n",
    "        index_start = df.index[-1] + 1"
   ]
  },
  {
   "cell_type": "code",
   "execution_count": 17,
   "metadata": {},
   "outputs": [],
   "source": [
    "#http://www.sqlitetutorial.net/sqlite-python/create-tables/\n",
    "def create_connection(db_file):\n",
    "    \"\"\" create a database connection to the SQLite database\n",
    "        specified by db_file\n",
    "    :param db_file: database file\n",
    "    :return: Connection object or None\n",
    "    \"\"\"\n",
    "    conn = sqlite3.connect(db_file)\n",
    "    return conn\n",
    " \n",
    "    return None\n",
    "\n",
    "def checkTableExists(dbcon):\n",
    "    cursr = dbcon.cursor()\n",
    "    str = \"select name from sqlite_master where type='table'\"\n",
    "    table_names = cursr.execute(str)\n",
    "    print(\"Tables in the database:\")\n",
    "    tables =table_names.fetchall() \n",
    "    print(tables[0][0])\n",
    "    return(len(tables))"
   ]
  },
  {
   "cell_type": "code",
   "execution_count": 22,
   "metadata": {},
   "outputs": [
    {
     "name": "stdout",
     "output_type": "stream",
     "text": [
      "Tables in the database:\n",
      "data_train\n"
     ]
    }
   ],
   "source": [
    "import sqlite3\n",
    "read_train_db = 'db_train.db'\n",
    "conn_train = create_connection(read_train_db)\n",
    "checkTableExists(conn_train)\n",
    "conn_train.close()"
   ]
  },
  {
   "cell_type": "code",
   "execution_count": 23,
   "metadata": {},
   "outputs": [
    {
     "name": "stdout",
     "output_type": "stream",
     "text": [
      "Tables in the database:\n",
      "data_test\n"
     ]
    }
   ],
   "source": [
    "read_test_db = 'db_test.db'\n",
    "conn_test = create_connection(read_test_db)\n",
    "checkTableExists(conn_test)\n",
    "conn_test.close()"
   ]
  },
  {
   "cell_type": "code",
   "execution_count": 25,
   "metadata": {},
   "outputs": [],
   "source": [
    "if os.path.isfile(read_train_db):\n",
    "    conn_train = create_connection(read_train_db)\n",
    "    if conn_train is not None:\n",
    "        # for selecting first 1M rows\n",
    "        # data = pd.read_sql_query(\"\"\"SELECT * FROM data LIMIT 100001;\"\"\", conn_r)\n",
    "        \n",
    "        # for selecting random points\n",
    "        data_train = pd.read_sql_query(\"SELECT * From data_train ORDER BY RANDOM() LIMIT 30000;\", conn_train)\n",
    "        conn_train.commit()\n",
    "        conn_train.close()\n",
    "data_bkp = data_train"
   ]
  },
  {
   "cell_type": "code",
   "execution_count": 26,
   "metadata": {},
   "outputs": [],
   "source": [
    "if os.path.isfile(read_test_db):\n",
    "    conn_test = create_connection(read_test_db)\n",
    "    if conn_test is not None:\n",
    "        # for selecting first 1M rows\n",
    "        # data = pd.read_sql_query(\"\"\"SELECT * FROM data LIMIT 100001;\"\"\", conn_r)\n",
    "        \n",
    "        # for selecting random points\n",
    "        data_test = pd.read_sql_query(\"SELECT * From data_test ORDER BY RANDOM() LIMIT 10000;\", conn_test)\n",
    "        conn_test.commit()\n",
    "        conn_test.close()\n",
    "data_bkp = data_test"
   ]
  },
  {
   "cell_type": "code",
   "execution_count": 27,
   "metadata": {},
   "outputs": [
    {
     "data": {
      "text/plain": [
       "(30000, 415)"
      ]
     },
     "execution_count": 27,
     "metadata": {},
     "output_type": "execute_result"
    }
   ],
   "source": [
    "data_train.shape"
   ]
  },
  {
   "cell_type": "code",
   "execution_count": 28,
   "metadata": {},
   "outputs": [
    {
     "data": {
      "text/plain": [
       "(10000, 415)"
      ]
     },
     "execution_count": 28,
     "metadata": {},
     "output_type": "execute_result"
    }
   ],
   "source": [
    "data_test.shape"
   ]
  },
  {
   "cell_type": "code",
   "execution_count": 29,
   "metadata": {},
   "outputs": [],
   "source": [
    "# remove the first row \n",
    "data_train.drop(data_train.index[0], inplace=True)\n",
    "data_test.drop(data_test.index[0], inplace=True)\n",
    "\n",
    "y_true_train = data_train['is_duplicate']\n",
    "y_true_test = data_test['is_duplicate']\n",
    "\n",
    "data_train.drop(['Unnamed: 0','Unnamed: 1', 'id','index','is_duplicate'], axis=1, inplace=True)\n",
    "data_test.drop(['Unnamed: 0','Unnamed: 1', 'id','index','is_duplicate'], axis=1, inplace=True)\n",
    "\n",
    "\n",
    "# after we read from sql table each entry was read it as a string\n",
    "# we convert all the features into numaric before we apply any model\n",
    "cols_tr = list(data_train.columns)\n",
    "cols_ts = list(data_test.columns)\n",
    "\n",
    "for i in cols_tr:\n",
    "    data_train[i] = data_train[i].apply(pd.to_numeric)\n",
    "    #print(i)\n",
    "for i in cols_ts:\n",
    "    data_test[i] = data_test[i].apply(pd.to_numeric)"
   ]
  },
  {
   "cell_type": "code",
   "execution_count": 30,
   "metadata": {},
   "outputs": [],
   "source": [
    "y_true_train = list(map(int, y_true_train.values))\n",
    "y_true_test = list(map(int, y_true_test.values))"
   ]
  },
  {
   "cell_type": "code",
   "execution_count": 32,
   "metadata": {},
   "outputs": [
    {
     "name": "stdout",
     "output_type": "stream",
     "text": [
      "Number of data points in train data : (29999, 410)\n",
      "Number of data points in test data : (9999, 410)\n"
     ]
    }
   ],
   "source": [
    "# Splitting data into train and test\n",
    "# We don't need this now, because since tfidf w2v, out train and test data was separated.\n",
    "\n",
    "#x_train_tfidfw2v, x_test_tfidfw2v, y_train_tfidfw2v, y_test_tfidfw2v = train_test_split(data, y_true, stratify=y_true, test_size=0.25)\n",
    "\n",
    "x_train_tfidfw2v = data_train\n",
    "x_test_tfidfw2v = data_test\n",
    "y_train_tfidfw2v = y_true_train\n",
    "y_test_tfidfw2v = y_true_test\n",
    "\n",
    "\n",
    "print(\"Number of data points in train data :\",x_train_tfidfw2v.shape)\n",
    "print(\"Number of data points in test data :\",x_test_tfidfw2v.shape)"
   ]
  },
  {
   "cell_type": "code",
   "execution_count": 37,
   "metadata": {},
   "outputs": [
    {
     "name": "stdout",
     "output_type": "stream",
     "text": [
      "[0]\ttrain-logloss:0.684869\tvalid-logloss:0.685053\n",
      "Multiple eval metrics have been passed: 'valid-logloss' will be used for early stopping.\n",
      "\n",
      "Will train until valid-logloss hasn't improved in 20 rounds.\n",
      "[10]\ttrain-logloss:0.61558\tvalid-logloss:0.617495\n",
      "[20]\ttrain-logloss:0.56403\tvalid-logloss:0.567471\n",
      "[30]\ttrain-logloss:0.525434\tvalid-logloss:0.530297\n",
      "[40]\ttrain-logloss:0.496085\tvalid-logloss:0.502171\n",
      "[50]\ttrain-logloss:0.472748\tvalid-logloss:0.4798\n",
      "[60]\ttrain-logloss:0.454648\tvalid-logloss:0.462981\n",
      "[70]\ttrain-logloss:0.439929\tvalid-logloss:0.449138\n",
      "[80]\ttrain-logloss:0.427974\tvalid-logloss:0.437936\n",
      "[90]\ttrain-logloss:0.418034\tvalid-logloss:0.4287\n",
      "[100]\ttrain-logloss:0.409815\tvalid-logloss:0.421251\n",
      "[110]\ttrain-logloss:0.402828\tvalid-logloss:0.414779\n",
      "[120]\ttrain-logloss:0.396938\tvalid-logloss:0.409445\n",
      "[130]\ttrain-logloss:0.392045\tvalid-logloss:0.405116\n",
      "[140]\ttrain-logloss:0.387746\tvalid-logloss:0.401412\n",
      "[150]\ttrain-logloss:0.384037\tvalid-logloss:0.398239\n",
      "[160]\ttrain-logloss:0.380861\tvalid-logloss:0.395593\n",
      "[170]\ttrain-logloss:0.377995\tvalid-logloss:0.393292\n",
      "[180]\ttrain-logloss:0.375274\tvalid-logloss:0.391249\n",
      "[190]\ttrain-logloss:0.372918\tvalid-logloss:0.389461\n",
      "[200]\ttrain-logloss:0.370725\tvalid-logloss:0.387815\n",
      "[210]\ttrain-logloss:0.368514\tvalid-logloss:0.38621\n",
      "[220]\ttrain-logloss:0.366533\tvalid-logloss:0.384799\n",
      "[230]\ttrain-logloss:0.364548\tvalid-logloss:0.383357\n",
      "[240]\ttrain-logloss:0.36254\tvalid-logloss:0.381971\n",
      "[250]\ttrain-logloss:0.360647\tvalid-logloss:0.380764\n",
      "[260]\ttrain-logloss:0.358682\tvalid-logloss:0.379568\n",
      "[270]\ttrain-logloss:0.357029\tvalid-logloss:0.378622\n",
      "[280]\ttrain-logloss:0.355418\tvalid-logloss:0.377737\n",
      "[290]\ttrain-logloss:0.353622\tvalid-logloss:0.376724\n",
      "[300]\ttrain-logloss:0.35199\tvalid-logloss:0.375765\n",
      "[310]\ttrain-logloss:0.350299\tvalid-logloss:0.374794\n",
      "[320]\ttrain-logloss:0.34867\tvalid-logloss:0.37386\n",
      "[330]\ttrain-logloss:0.347322\tvalid-logloss:0.373219\n",
      "[340]\ttrain-logloss:0.345829\tvalid-logloss:0.37249\n",
      "[350]\ttrain-logloss:0.344415\tvalid-logloss:0.371817\n",
      "[360]\ttrain-logloss:0.343043\tvalid-logloss:0.371174\n",
      "[370]\ttrain-logloss:0.341735\tvalid-logloss:0.370623\n",
      "[380]\ttrain-logloss:0.340386\tvalid-logloss:0.370029\n",
      "[390]\ttrain-logloss:0.339154\tvalid-logloss:0.369431\n",
      "[399]\ttrain-logloss:0.338022\tvalid-logloss:0.369023\n",
      "The test log loss is: 0.36902362084434664\n"
     ]
    }
   ],
   "source": [
    "import xgboost as xgb\n",
    "from sklearn.metrics.classification import accuracy_score, log_loss\n",
    "\n",
    "params = {}\n",
    "params['objective'] = 'binary:logistic'\n",
    "params['eval_metric'] = 'logloss'\n",
    "params['eta'] = 0.02\n",
    "params['max_depth'] = 4\n",
    "\n",
    "d_train = xgb.DMatrix(x_train_tfidfw2v, label=y_train_tfidfw2v)\n",
    "d_test = xgb.DMatrix(x_test_tfidfw2v, label=y_test_tfidfw2v)\n",
    "\n",
    "watchlist = [(d_train, 'train'), (d_test, 'valid')]\n",
    "\n",
    "bst = xgb.train(params, d_train, 400, watchlist, early_stopping_rounds=20, verbose_eval=10)\n",
    "\n",
    "xgdmat = xgb.DMatrix(x_train_tfidfw2v, y_train_tfidfw2v)\n",
    "predict_y = bst.predict(d_test)\n",
    "print(\"The test log loss is:\",log_loss(y_test_tfidfw2v, predict_y, eps=1e-15))"
   ]
  },
  {
   "cell_type": "code",
   "execution_count": 44,
   "metadata": {},
   "outputs": [
    {
     "name": "stdout",
     "output_type": "stream",
     "text": [
      "Total number of data points : 9999\n"
     ]
    },
    {
     "data": {
      "image/png": "[encoded data removed]",
      "text/plain": [
       "<Figure size 1440x288 with 6 Axes>"
      ]
     },
     "metadata": {},
     "output_type": "display_data"
    }
   ],
   "source": [
    "from sklearn.metrics import confusion_matrix\n",
    "predicted_y = np.array(predict_y > 0.5, dtype=int)\n",
    "print(\"Total number of data points :\", len(predicted_y))\n",
    "plot_confusion_matrix(y_test_tfidfw2v, predicted_y)"
   ]
  },
  {
   "cell_type": "markdown",
   "metadata": {},
   "source": [
    "### 5. Applying ML Models - Hyperparameter Tuning of XGBoost using RandomSearch"
   ]
  },
  {
   "cell_type": "code",
   "execution_count": 45,
   "metadata": {},
   "outputs": [
    {
     "name": "stdout",
     "output_type": "stream",
     "text": [
      "Shapes of training and test data for hyperparameter tuning is (29999, 410) and (9999, 410)\n"
     ]
    },
    {
     "data": {
      "text/plain": [
       "{'n_estimators': 600, 'max_depth': 12}"
      ]
     },
     "execution_count": 45,
     "metadata": {},
     "output_type": "execute_result"
    }
   ],
   "source": [
    "from sklearn.model_selection import RandomizedSearchCV\n",
    "import xgboost as xgb\n",
    "\n",
    "# Parameters for XGBoost: parameter values and data volume reduced to reduce time consumption\n",
    "param = {'n_estimators':[100,200,400,600], 'max_depth':[7,8,10,12]}\n",
    "xgboostclf = xgb.XGBClassifier()\n",
    "\n",
    "print(\"Shapes of training and test data for hyperparameter tuning is {} and {}\".format(x_train_tfidfw2v.shape, x_test_tfidfw2v.shape))\n",
    "\n",
    "clf = RandomizedSearchCV(xgboostclf, param_distributions=param, cv=3, scoring='roc_auc', return_train_score=True)\n",
    "clf.fit(x_train_tfidfw2v, y_train_tfidfw2v)\n",
    "clf.best_params_"
   ]
  },
  {
   "cell_type": "code",
   "execution_count": 46,
   "metadata": {},
   "outputs": [
    {
     "name": "stdout",
     "output_type": "stream",
     "text": [
      "The training log loss using the best parameters {'n_estimators': 600, 'max_depth': 12} is 0.0023194627413459447\n",
      "The test log loss using the best parameters {'n_estimators': 600, 'max_depth': 12} is 0.46089345961445616\n"
     ]
    },
    {
     "data": {
      "image/png": "[encoded data removed]",
      "text/plain": [
       "<Figure size 1440x288 with 6 Axes>"
      ]
     },
     "metadata": {},
     "output_type": "display_data"
    }
   ],
   "source": [
    "# Training with the best parameters obtained after applying random search CV\n",
    "xgboostclf = xgb.XGBClassifier(n_estimators=600, max_depth=12)\n",
    "xgboostclf.fit(x_train_tfidfw2v, y_train_tfidfw2v)\n",
    "\n",
    "# Calculating train and test losses\n",
    "y_pred_tr=xgboostclf.predict_proba(x_train_tfidfw2v)\n",
    "y_pred_ts=xgboostclf.predict_proba(x_test_tfidfw2v)\n",
    "\n",
    "print(\"The training log loss using the best parameters {} is {}\".format(clf.best_params_, log_loss(y_train_tfidfw2v, y_pred_tr, eps=1e-15)))\n",
    "print(\"The test log loss using the best parameters {} is {}\".format(clf.best_params_, log_loss(y_test_tfidfw2v, y_pred_ts, eps=1e-15)))\n",
    "\n",
    "# Displaying confusion, precision and recall matrix\n",
    "predicted_y = np.argmax(y_pred_ts, axis=1)\n",
    "plot_confusion_matrix(y_test_tfidfw2v, predicted_y)"
   ]
  },
  {
   "cell_type": "markdown",
   "metadata": {},
   "source": [
    "### 6. Displaying the results using pretty table"
   ]
  },
  {
   "cell_type": "code",
   "execution_count": 47,
   "metadata": {},
   "outputs": [
    {
     "name": "stdout",
     "output_type": "stream",
     "text": [
      "+--------------------------------------------------------------------------------------------------+\n",
      "|                   Models Comparison of Quora Question Pairs Similarity Problem                   |\n",
      "+---------------------------------+-------------+------------+------------+------------+-----------+\n",
      "|            Algorithm            | #Datapoints | Vectorizer | Loss Type  | Train loss | Test loss |\n",
      "+---------------------------------+-------------+------------+------------+------------+-----------+\n",
      "|       Logistic Regression       |    100000   |   TFIDF    |  Log loss  |   0.3140   |   0.3673  |\n",
      "|            Linear SVM           |    100000   |   TFIDF    | Hinge loss |   0.8904   |   0.8918  |\n",
      "|             XGBoost             |    40000    |   TFIDF    |  Log loss  |   0.3380   |   0.3690  |\n",
      "| XGBoost (Hyperparameter tuning) |    40000    |   TFIDF    |  Log loss  |   0.0023   |   0.4608  |\n",
      "+---------------------------------+-------------+------------+------------+------------+-----------+\n"
     ]
    }
   ],
   "source": [
    "from prettytable import PrettyTable\n",
    "\n",
    "x = PrettyTable()\n",
    "\n",
    "x.field_names = [\"Algorithm\", \"#Datapoints\", \"Vectorizer\", \"Loss Type\", \"Train loss\", \"Test loss\"]\n",
    "\n",
    "x.add_row([\"Logistic Regression\",\"100000\",\"TFIDF\",\"Log loss\",\"0.3140\",\"0.3673\"])\n",
    "x.add_row([\"Linear SVM\",\"100000\",\"TFIDF\",\"Hinge loss\",\"0.8904\",\"0.8918\"])\n",
    "x.add_row([\"XGBoost\",\"40000\",\"TFIDF\",\"Log loss\",\"0.3380\",\"0.3690\"])\n",
    "x.add_row([\"XGBoost (Hyperparameter tuning)\",\"40000\",\"TFIDF\",\"Log loss\",\"0.0023\",\"0.4608\"])\n",
    "\n",
    "print(x.get_string(title=\"Models Comparison of Quora Question Pairs Similarity Problem\"))"
   ]
  },
  {
   "cell_type": "markdown",
   "metadata": {},
   "source": [
    "## Observations"
   ]
  },
  {
   "cell_type": "markdown",
   "metadata": {},
   "source": [
    "1. XGBoost model took bery long time to train but resulted in very good training log loss value but the test log loss went crazy. This indicates the model is highly overfitting\n",
    "2. Because of the high training time, the number of data points was reduced from 100k to 40k\n",
    "3. Linear SVM didn't performed well as compared to other models and has a disappointing hinge loss value"
   ]
  },
  {
   "cell_type": "code",
   "execution_count": null,
   "metadata": {},
   "outputs": [],
   "source": []
  }
 ],
 "metadata": {
  "kernelspec": {
   "display_name": "Python 3",
   "language": "python",
   "name": "python3"
  },
  "language_info": {
   "codemirror_mode": {
    "name": "ipython",
    "version": 3
   },
   "file_extension": ".py",
   "mimetype": "text/x-python",
   "name": "python",
   "nbconvert_exporter": "python",
   "pygments_lexer": "ipython3",
   "version": "3.6.5"
  }
 },
 "nbformat": 4,
 "nbformat_minor": 2
}
